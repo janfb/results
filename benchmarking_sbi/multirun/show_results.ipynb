{
 "cells": [
  {
   "cell_type": "code",
   "execution_count": null,
   "metadata": {},
   "outputs": [],
   "source": [
    "import sys\n",
    "sys.path.append(\"../\")\n",
    "from utils import compile_df\n",
    "from sbibm.utils.io import get_tensor_from_csv\n",
    "import pandas as pd\n",
    "import altair as alt\n",
    "import deneb as den\n",
    "from scipy.stats import binom\n",
    "\n",
    "import matplotlib.pyplot as plt\n",
    "from matplotlib.gridspec import GridSpec\n",
    "import numpy as np\n",
    "import sbibm\n",
    "import bz2\n",
    "import _pickle as cPickle\n",
    "\n",
    "from sbi.analysis import pairplot"
   ]
  },
  {
   "cell_type": "code",
   "execution_count": null,
   "metadata": {
    "scrolled": true
   },
   "outputs": [],
   "source": [
    "path = \"2021-04-22/08-47-09/\"\n",
    "df = compile_df(basepath=path)"
   ]
  },
  {
   "cell_type": "code",
   "execution_count": null,
   "metadata": {},
   "outputs": [],
   "source": [
    "# df = pd.read_csv(path + \"/dataframe.csv\")\n",
    "df.to_csv(path + \"/dataframe.csv\")"
   ]
  },
  {
   "cell_type": "code",
   "execution_count": null,
   "metadata": {},
   "outputs": [],
   "source": [
    "df.groupby(by=[df.algorithm, df.num_rounds, df.num_simulations]).cold_C2ST.mean()"
   ]
  },
  {
   "cell_type": "code",
   "execution_count": null,
   "metadata": {},
   "outputs": [],
   "source": [
    "chart = den.lineplot(\n",
    "    df, \n",
    "    x=\"num_simulations:O\", \n",
    "    y=\"C2ST:Q\",\n",
    "#     column=\"algorithm:N\",\n",
    "    color=alt.Color(\"algorithm:N\"),\n",
    "    error_extent=\"stderr\",\n",
    "    width=500, \n",
    "    height=300)\n",
    "chart"
   ]
  },
  {
   "cell_type": "code",
   "execution_count": null,
   "metadata": {},
   "outputs": [],
   "source": [
    "chart = den.lineplot(\n",
    "    df, \n",
    "    x=\"num_simulations:O\", \n",
    "    y=\"cold_C2ST:Q\",\n",
    "#     column=\"algorithm:N\",\n",
    "    color=alt.Color(\"algorithm:N\"),\n",
    "    error_extent=\"stderr\",\n",
    "    width=500, \n",
    "    height=300)\n",
    "chart"
   ]
  },
  {
   "cell_type": "code",
   "execution_count": null,
   "metadata": {},
   "outputs": [],
   "source": [
    "chart = den.lineplot(\n",
    "    df, \n",
    "    x=\"num_simulations:O\", \n",
    "    y=\"cold_STD_ERR:Q\",\n",
    "#     column=\"algorithm:N\",\n",
    "    color=alt.Color(\"algorithm:N\"),\n",
    "    error_extent=\"stderr\",\n",
    "    width=500, \n",
    "    height=300)\n",
    "chart"
   ]
  },
  {
   "cell_type": "code",
   "execution_count": null,
   "metadata": {},
   "outputs": [],
   "source": [
    "chart = den.lineplot(\n",
    "    df, \n",
    "    x=\"num_simulations:O\", \n",
    "    y=\"cold_MEAN_ERR:Q\",\n",
    "#     column=\"algorithm:N\",\n",
    "    color=alt.Color(\"algorithm:N\"),\n",
    "    error_extent=\"stderr\",\n",
    "    width=500, \n",
    "    height=300)\n",
    "chart"
   ]
  },
  {
   "cell_type": "code",
   "execution_count": null,
   "metadata": {},
   "outputs": [],
   "source": [
    "chart = den.lineplot(\n",
    "    df, \n",
    "    x=\"num_rounds:O\", \n",
    "    y=\"MAP/MLE_ERR:Q\",\n",
    "#     column=\"algorithm:N\",\n",
    "    color=alt.Color(\"algorithm:N\"),\n",
    "    error_extent=\"stderr\",\n",
    "    width=500, \n",
    "    height=300, )\n",
    "chart"
   ]
  },
  {
   "cell_type": "code",
   "execution_count": null,
   "metadata": {},
   "outputs": [],
   "source": [
    "chart = den.lineplot(\n",
    "    df, \n",
    "    x=\"num_rounds:O\", \n",
    "    y=\"MEAN_ERR:Q\",\n",
    "#     column=\"algorithm:N\",\n",
    "    color=alt.Color(\"algorithm:N\"),\n",
    "    error_extent=\"stderr\",\n",
    "    width=500, \n",
    "    height=300)\n",
    "chart"
   ]
  },
  {
   "cell_type": "code",
   "execution_count": null,
   "metadata": {},
   "outputs": [],
   "source": [
    "task = sbibm.get_task(\"gaussian_linear_uniform\")"
   ]
  },
  {
   "cell_type": "code",
   "execution_count": null,
   "metadata": {},
   "outputs": [],
   "source": [
    "import torch\n",
    "from sbibm.metrics import c2st"
   ]
  },
  {
   "cell_type": "code",
   "execution_count": null,
   "metadata": {
    "scrolled": false
   },
   "outputs": [],
   "source": [
    "nr = [1, 1, 2, 2, 4, 4, 6, 6, 8, 8, 10, 10]\n",
    "for i in range(12):\n",
    "    \n",
    "    true_cold_samples = []\n",
    "    sampling_dist = torch.distributions.MultivariateNormal(\n",
    "        loc=task.get_observation(1).squeeze(),\n",
    "        precision_matrix=task.simulator_params[\"precision_matrix\"] * nr[i],\n",
    "    )\n",
    "\n",
    "    # Reject samples outside of prior bounds\n",
    "    counter = 0\n",
    "    num_accepted = 0\n",
    "    while num_accepted < 1000:\n",
    "        counter += 1\n",
    "        sample = sampling_dist.sample((10000,))\n",
    "        within_support = task.prior_dist.support.check(sample)\n",
    "        if within_support.any():\n",
    "            true_cold_samples.append(sample[within_support])\n",
    "            num_accepted += int(within_support.sum())\n",
    "    s1 = torch.cat(true_cold_samples)[:1000]\n",
    "    s2 = get_tensor_from_csv(f\"2021-04-17/09-05-26/{i}/posterior_samples.csv.bz2\")[:1000,]\n",
    "#     s2 = task.get_reference_posterior_samples(i+1)[:1000]\n",
    "#     print(c2st(s1, s2))\n",
    "    pairplot([\n",
    "        s1,\n",
    "        s2, \n",
    "    ], upper=\"scatter\", limits=[[-3, 3]]*10,\n",
    "             points=task.get_observation(1), points_colors=[\"C2\"], figsize=(18, 12), \n",
    "        hist_diag=dict(bins=np.linspace(-2, 2, 30)));\n",
    "    plt.suptitle(f\"num_rounds {nr[i]}\", fontsize=15)"
   ]
  },
  {
   "cell_type": "code",
   "execution_count": null,
   "metadata": {},
   "outputs": [],
   "source": []
  }
 ],
 "metadata": {
  "kernelspec": {
   "display_name": "Python 3",
   "language": "python",
   "name": "python3"
  },
  "language_info": {
   "codemirror_mode": {
    "name": "ipython",
    "version": 3
   },
   "file_extension": ".py",
   "mimetype": "text/x-python",
   "name": "python",
   "nbconvert_exporter": "python",
   "pygments_lexer": "ipython3",
   "version": "3.8.8"
  }
 },
 "nbformat": 4,
 "nbformat_minor": 4
}
